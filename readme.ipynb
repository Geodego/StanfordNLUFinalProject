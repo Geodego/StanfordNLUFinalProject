{
 "cells": [
  {
   "cell_type": "markdown",
   "metadata": {},
   "source": [
    "# Developing a Pragmatic framework based on Transformers"
   ]
  },
  {
   "cell_type": "markdown",
   "metadata": {},
   "source": [
    "### Geoffroy de Gournay"
   ]
  },
  {
   "cell_type": "markdown",
   "metadata": {},
   "source": [
    "## Abstract"
   ]
  },
  {
   "cell_type": "markdown",
   "metadata": {},
   "source": [
    "Some recent NLU papers focus on building a model attuned to the fact that humans live in a social physical environment and leverage that information. RSA based models have proved to offer an interesting framework for that purpose. These models need to handle the fact that when humans speak or listen, they always reason about other minds. Recent works have been using neural networks representing literal speakers and literal listeners, as building blocks for modelling more sophisticated pragmatic listeners and speakers. The neural speakers found in current RSA studies are encoder-decoders using RNNs. This study hypothesis is that speakers can be modelled more efficiently by using Transformers rather than RNNs. These models should especially help in the hardest cases, when the speaker needs to be more specific and needs to produce longer sentences. The intuition here, is that the powerful attention mechanisms used by Transformers, should help remembering the complex grounding aspects impacting language modelling throughout the whole process of building a sentence."
   ]
  },
  {
   "cell_type": "markdown",
   "metadata": {},
   "source": [
    "## Usage instructions"
   ]
  },
  {
   "cell_type": "markdown",
   "metadata": {},
   "source": [
    "### Main object used to execute tasks is TaskHandler\n",
    "It can be called with the following instruction:\n",
    "from project.object.task_handler import TaskHandler\n"
   ]
  },
  {
   "cell_type": "markdown",
   "metadata": {},
   "source": [
    "### Data Needed:\n",
    "Glove 100d should be downloaded and saved in project/data/datasets/glove/glove.6B.100d.txt"
   ]
  },
  {
   "cell_type": "markdown",
   "metadata": {},
   "source": [
    "### Organisation of models and parameters\n",
    "data concerning the different models and their parameters are save in database color_db.sqlite found in\n",
    "project/data/study\n",
    "this database is made essentially of following tables:\n",
    "* DataSplit: different splits of the data used for testing and training\n",
    "* ModelType: models (GRU, transformer...)\n",
    "* Models: different models of speakers and listeners\n",
    "* HyperSearch: details and outcome of different hyperparameters optimization analysis\n",
    "* Hyperparameters: different hyperparameters selected following the HyperSearch outcome\n",
    "* TrainedAgent: the different agents with parameters that are pretrained. For each of these agent there's '.pt' file with the pretrained parameters of the model. For Agent with id=k, the file name is 'trained_agent_k.pt'. These files are found in project/data/pretrained_models."
   ]
  },
  {
   "cell_type": "markdown",
   "metadata": {},
   "source": [
    "### Pretrained models:\n",
    "Pretrained models are found in project/data/pretrained_models.\n",
    "the names are always 'trained_agent_k.pt' where k corresponds to the key id in table TrainedAgent in database\n",
    "color_db.sqlite\n"
   ]
  },
  {
   "cell_type": "markdown",
   "metadata": {},
   "source": [
    "### Code Organisation\n",
    "* project/data: all datasets used, pretrained models, database color_deb.sqlite\n",
    "* project/models: code for different models\n",
    "* project/modules: code related to embedding  and transformer architecture.\n",
    "* project/object: code for TaskHandler, objects used to execute the different needed tasks for this project\n",
    "* project/utils: general functions used in the rest of the project"
   ]
  },
  {
   "cell_type": "markdown",
   "metadata": {},
   "source": [
    "### Database color.db schema"
   ]
  },
  {
   "cell_type": "markdown",
   "metadata": {},
   "source": [
    "Results are saved in a database project/data/color_db.sqlite. Reading from and writing to the database is done with class ColorDB found in project/data/database.py. The schema of the database is as follow:"
   ]
  },
  {
   "cell_type": "markdown",
   "metadata": {},
   "source": [
    "![](color_db_schema.png)"
   ]
  },
  {
   "cell_type": "code",
   "execution_count": null,
   "metadata": {},
   "outputs": [],
   "source": []
  }
 ],
 "metadata": {
  "kernelspec": {
   "display_name": "Python (nlu)",
   "language": "python",
   "name": "nlu"
  },
  "language_info": {
   "codemirror_mode": {
    "name": "ipython",
    "version": 3
   },
   "file_extension": ".py",
   "mimetype": "text/x-python",
   "name": "python",
   "nbconvert_exporter": "python",
   "pygments_lexer": "ipython3",
   "version": "3.7.9"
  }
 },
 "nbformat": 4,
 "nbformat_minor": 4
}
