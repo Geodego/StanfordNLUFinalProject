{
 "cells": [
  {
   "cell_type": "markdown",
   "metadata": {},
   "source": [
    "### Main object used to execute tasks is TaskHandler\n",
    "It can be called with the following in struction:\n",
    "from project.object.task_handler import TaskHandler\n"
   ]
  },
  {
   "cell_type": "markdown",
   "metadata": {},
   "source": [
    "### Data Needed:\n",
    "Glove 100d should be downloaded and saved in project/data/datasets/glove/glove.6B.100d.txt"
   ]
  },
  {
   "cell_type": "markdown",
   "metadata": {},
   "source": [
    "### Organisation of models and parameters\n",
    "data concerning the different models and their parameters are save in database color_db.sqlite found in\n",
    "project/data/study\n",
    "this database is made essentially of following tables:\n",
    "* DataSplit: different splits of the data used for testing and training\n",
    "* ModelType: models (GRU, transformer...)\n",
    "* Models: different models of speakers and listeners\n",
    "* HyperSearch: details and outcome of different hyperparameters optimization analysis\n",
    "* Hyperparameters: different hyperparameters selected following the HyperSearch outcome\n",
    "* TrainedAgent: the different agents with parameters that are pretrained. For each of these agent there's '.pt' \n",
    "* file with the pretrained parameters of the model. For Agent with id=k, the file name is 'trained_agent_k.pt'"
   ]
  },
  {
   "cell_type": "markdown",
   "metadata": {},
   "source": [
    "### Pretrained models:\n",
    "Pretrained models are found in project/data/pretrained_models.\n",
    "the names are always 'trained_agent_k.pt' where k corresponds to the key id in table TrainedAgent in database\n",
    "color_db.sqlite\n"
   ]
  },
  {
   "cell_type": "markdown",
   "metadata": {},
   "source": [
    "### Code Organisation\n",
    "* project/data: all datasets used, pretrained models, database color_deb.sqlite\n",
    "* project/models: code for different models\n",
    "* project/modules: code related to embedding  and transformer architecture.\n",
    "* project/object: code for TaskHandler, objects used to execute the different needed tasks for this project\n",
    "* project/utils: general functions used in the rest of the project"
   ]
  },
  {
   "cell_type": "code",
   "execution_count": null,
   "metadata": {},
   "outputs": [],
   "source": []
  }
 ],
 "metadata": {
  "kernelspec": {
   "display_name": "Python (nlu)",
   "language": "python",
   "name": "nlu"
  },
  "language_info": {
   "codemirror_mode": {
    "name": "ipython",
    "version": 3
   },
   "file_extension": ".py",
   "mimetype": "text/x-python",
   "name": "python",
   "nbconvert_exporter": "python",
   "pygments_lexer": "ipython3",
   "version": "3.7.9"
  }
 },
 "nbformat": 4,
 "nbformat_minor": 4
}
